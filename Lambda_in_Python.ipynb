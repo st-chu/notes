{
 "cells": [
  {
   "cell_type": "markdown",
   "id": "round-charter",
   "metadata": {},
   "source": [
    "# Lambda\n",
    "***\n",
    "\n",
    "**Lambda** jest *anonimową* funckcją, czyli taką funkcją, która jest zdefioniowana bez nazwy (def).\n",
    "Podczas gdy normalna funkcja w Pythonie jest defioniowana przy pomocy **def**, funkcja anonimowa jest definiowana przy użyciu słowa **lambda**\n",
    "\n",
    "\n",
    "Składnia funkcji lambda w Pythonie wygląda następująco:"
   ]
  },
  {
   "cell_type": "code",
   "execution_count": 1,
   "id": "alpine-nicaragua",
   "metadata": {},
   "outputs": [
    {
     "data": {
      "text/plain": [
       "<function __main__.<lambda>(arguments)>"
      ]
     },
     "execution_count": 1,
     "metadata": {},
     "output_type": "execute_result"
    }
   ],
   "source": [
    "lambda arguments: expression"
   ]
  },
  {
   "cell_type": "markdown",
   "id": "incomplete-italy",
   "metadata": {},
   "source": [
    "Lambda może mieć dużą ilość argumentów, lecz tylko jedno wyrażenie.\n",
    "\n",
    "Wyrażenie jest wykonywane i zwracane"
   ]
  },
  {
   "cell_type": "code",
   "execution_count": 3,
   "id": "perceived-carrier",
   "metadata": {},
   "outputs": [
    {
     "name": "stdout",
     "output_type": "stream",
     "text": [
      "25\n"
     ]
    }
   ],
   "source": [
    "potęga = lambda x: x*x\n",
    "\n",
    "print(potęga(5))"
   ]
  },
  {
   "cell_type": "markdown",
   "id": "documentary-basket",
   "metadata": {},
   "source": [
    "W powyższym przykładzie _lambda x: x*x_ jest funkcją, która nie ma nazwy. Argumentem funkcji jest **x** a wyrażeniem __x*x__, wyrażenie jest wykonane i zwracany jest wynik.\n",
    "Funkcja nie ma nazwy, zwraca ona obiekt funkcji, który jest przypisany do identyfikatora potęga.\n",
    "Powyższy przykład jest równznaczny z:"
   ]
  },
  {
   "cell_type": "code",
   "execution_count": 4,
   "id": "primary-arthur",
   "metadata": {},
   "outputs": [],
   "source": [
    "def potęga(x):\n",
    "    return x * x"
   ]
  },
  {
   "cell_type": "markdown",
   "id": "cardiac-hundred",
   "metadata": {},
   "source": [
    "***\n",
    "## Gdzie używać funkcji lambda\n",
    "\n",
    "Funkcji lambda używamy, gdy potrzebujemy funkcji bez nazwy przez krótki czas.\n",
    "\n",
    "W Pythonie generalnie używamy go jako argumentu funkcji wyższego rzędu (funkcji, która przyjmuje inne funkcje jako argumenty). Funkcje lambda są używane wraz z funkcjami wbudowanymi, takimi jak filter (), map () itp.\n",
    "\n",
    "Przykład z użyciem funkji filter()"
   ]
  },
  {
   "cell_type": "code",
   "execution_count": 11,
   "id": "purple-rehabilitation",
   "metadata": {},
   "outputs": [
    {
     "name": "stdout",
     "output_type": "stream",
     "text": [
      "[2, 4, 6, 8, 10]\n"
     ]
    }
   ],
   "source": [
    "my_list = [1, 2, 3, 4, 5, 6, 7, 8, 9, 10]\n",
    "\n",
    "new_list = list(filter(lambda x: (x%2 == 0), my_list))\n",
    "print(new_list)"
   ]
  },
  {
   "cell_type": "markdown",
   "id": "written-northeast",
   "metadata": {},
   "source": [
    "Przykład z użyciem funkcji map()"
   ]
  },
  {
   "cell_type": "code",
   "execution_count": 12,
   "id": "better-rainbow",
   "metadata": {},
   "outputs": [
    {
     "name": "stdout",
     "output_type": "stream",
     "text": [
      "[1, 4, 9, 16, 25, 36, 49, 64, 81, 100]\n"
     ]
    }
   ],
   "source": [
    "my_list = [1, 2, 3, 4, 5, 6, 7, 8, 9, 10]\n",
    "\n",
    "new_list = list(map(lambda x: x*x, my_list))\n",
    "print(new_list)"
   ]
  },
  {
   "cell_type": "markdown",
   "id": "close-natural",
   "metadata": {},
   "source": [
    "czy to nie jest to samo?"
   ]
  },
  {
   "cell_type": "code",
   "execution_count": 13,
   "id": "selected-breakfast",
   "metadata": {},
   "outputs": [
    {
     "name": "stdout",
     "output_type": "stream",
     "text": [
      "[2, 4, 6, 8, 10, 12, 14, 16, 18, 20]\n"
     ]
    }
   ],
   "source": [
    "my_list = [1, 2, 3, 4, 5, 6, 7, 8, 9, 10]\n",
    "\n",
    "new_list = [number * 2 for number in my_list]\n",
    "print(new_list)"
   ]
  }
 ],
 "metadata": {
  "kernelspec": {
   "display_name": "Python 3",
   "language": "python",
   "name": "python3"
  },
  "language_info": {
   "codemirror_mode": {
    "name": "ipython",
    "version": 3
   },
   "file_extension": ".py",
   "mimetype": "text/x-python",
   "name": "python",
   "nbconvert_exporter": "python",
   "pygments_lexer": "ipython3",
   "version": "3.8.5"
  }
 },
 "nbformat": 4,
 "nbformat_minor": 5
}
