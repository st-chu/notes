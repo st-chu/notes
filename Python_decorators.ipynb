{
 "cells": [
  {
   "cell_type": "markdown",
   "id": "geographic-junction",
   "metadata": {},
   "source": [
    "# **DEKORATORY** "
   ]
  },
  {
   "cell_type": "markdown",
   "id": "inclusive-wonder",
   "metadata": {},
   "source": [
    "***\n",
    "\n",
    "Podstawową sprawą w Pythonie jest to, że wszystko jest **obiektem**. \n",
    "Nazwy zmiennych które definiujemy są identyfikatorami powiązanymi z obiektami. Funkcja to również obiekt, z tym samym obiektem (funkcją) mogą być powiązane różne nazwy, np:"
   ]
  },
  {
   "cell_type": "code",
   "execution_count": 5,
   "id": "italian-anger",
   "metadata": {},
   "outputs": [
    {
     "name": "stdout",
     "output_type": "stream",
     "text": [
      "witaj\n",
      "siema\n"
     ]
    }
   ],
   "source": [
    "def first(msg):\n",
    "    print(msg)\n",
    "\n",
    "first(\"witaj\")\n",
    "\n",
    "second = first\n",
    "second(\"siema\")"
   ]
  },
  {
   "cell_type": "markdown",
   "id": "realistic-teens",
   "metadata": {},
   "source": [
    "Obie nazwy odnoszą się do tego samego obiektu (funkcji)\n",
    "***\n",
    "### Funkcje mogą być przekazywane jako argumenty do innej funkcji. \n",
    "Funkcje które przyjmują inne funkcje jako argument nazywa się funkcjami wyższego rzędu **(higher order functions)**"
   ]
  },
  {
   "cell_type": "code",
   "execution_count": 8,
   "id": "embedded-expression",
   "metadata": {},
   "outputs": [],
   "source": [
    "def dodaj(x):\n",
    "    return x + 1\n",
    "\n",
    "def odejmij(x):\n",
    "    return x - 1\n",
    "\n",
    "def działanie(func, x):\n",
    "    return func(x)"
   ]
  },
  {
   "cell_type": "code",
   "execution_count": 9,
   "id": "visible-bathroom",
   "metadata": {},
   "outputs": [
    {
     "data": {
      "text/plain": [
       "4"
      ]
     },
     "execution_count": 9,
     "metadata": {},
     "output_type": "execute_result"
    }
   ],
   "source": [
    "działanie(dodaj, 3)"
   ]
  },
  {
   "cell_type": "code",
   "execution_count": 10,
   "id": "virgin-methodology",
   "metadata": {},
   "outputs": [
    {
     "data": {
      "text/plain": [
       "2"
      ]
     },
     "execution_count": 10,
     "metadata": {},
     "output_type": "execute_result"
    }
   ],
   "source": [
    "działanie(odejmij, 3)"
   ]
  },
  {
   "cell_type": "markdown",
   "id": "incomplete-cuisine",
   "metadata": {},
   "source": [
    "***\n",
    "### Ponadto funkcja może zwracać inną funkcję, np"
   ]
  },
  {
   "cell_type": "code",
   "execution_count": 11,
   "id": "controversial-twist",
   "metadata": {},
   "outputs": [
    {
     "name": "stdout",
     "output_type": "stream",
     "text": [
      "witam ze zwracanej\n"
     ]
    }
   ],
   "source": [
    "def wywołana():\n",
    "    def zwracana():\n",
    "        print(\"witam ze zwracanej\")\n",
    "    return zwracana()\n",
    "\n",
    "wywołana()"
   ]
  },
  {
   "cell_type": "markdown",
   "id": "alive-small",
   "metadata": {},
   "source": [
    "Funkcja \"zwracana\" jest zagnieżdzona, jest wywoływana za każdym razem kiedy odnosimy się do funkcji \"wywołana\"\n",
    "\n",
    "***\n",
    "\n",
    "Każdy obiekt, który implementuje specjalną metodę **__call__()** jest określany jako wywoływalny (**callable**).\n",
    "**Dekorator to obiekt wywoływalny, który zwraca wartość wywoływaną.** Innymi słowy dekorator to taka funkcja, która przyjmuje inną funkcję, upiększa ją i zwraca. \n"
   ]
  },
  {
   "cell_type": "code",
   "execution_count": 12,
   "id": "prospective-arkansas",
   "metadata": {},
   "outputs": [],
   "source": [
    "def odświerz(func):\n",
    "    def make_up():\n",
    "        print('jestem odświerzony')\n",
    "        func()\n",
    "    return make_up\n",
    "\n",
    "def nieświerzy():\n",
    "    print('ale jestem nieświerzy, chyba brzydko pachę')"
   ]
  },
  {
   "cell_type": "markdown",
   "id": "entertaining-garage",
   "metadata": {},
   "source": [
    "Wywołajmy teraz funkcję \"nieświerzy\""
   ]
  },
  {
   "cell_type": "code",
   "execution_count": 13,
   "id": "catholic-teddy",
   "metadata": {},
   "outputs": [
    {
     "name": "stdout",
     "output_type": "stream",
     "text": [
      "ale jestem nieświerzy, chyba brzydko pachę\n"
     ]
    }
   ],
   "source": [
    "nieświerzy()"
   ]
  },
  {
   "cell_type": "markdown",
   "id": "internal-thesis",
   "metadata": {},
   "source": [
    "A teraz ją udekorujmy"
   ]
  },
  {
   "cell_type": "code",
   "execution_count": 17,
   "id": "instructional-broadway",
   "metadata": {},
   "outputs": [
    {
     "name": "stdout",
     "output_type": "stream",
     "text": [
      "jestem odświerzony\n",
      "ale jestem nieświerzy, chyba brzydko pachę\n"
     ]
    }
   ],
   "source": [
    "odświerzony = odświerz(nieświerzy)\n",
    "odświerzony()"
   ]
  },
  {
   "cell_type": "markdown",
   "id": "sonic-dairy",
   "metadata": {},
   "source": [
    "W powyższym przykładzie funkcja *odświerz* jest dekoratorem.\n",
    "Funkcja *nieświerzy* została udekorowana a zwracana funkcja została nazwana *odświrzony*\n",
    "\n",
    "Udekorowana funkcja zyskała nieco nowej funkcjonalności. Można to porównać do prezentu.  Dekorator pełni funkcję opakowania przedmiotu, któryn został udekorowany. Prezent w środku nie zmienia się, ale wygląda ładniej jak jest zapakowany.\n",
    "\n",
    "***\n",
    "\n",
    "Możemy to wszysko uprościć stosując znaczek **@**\n",
    "\n",
    "Wtedy poniższy zapis"
   ]
  },
  {
   "cell_type": "code",
   "execution_count": 18,
   "id": "peripheral-frost",
   "metadata": {},
   "outputs": [
    {
     "name": "stdout",
     "output_type": "stream",
     "text": [
      "jestem odświerzony\n",
      "ale jestem nieświerzy, chyba brzydko pachę\n"
     ]
    }
   ],
   "source": [
    "@odświerz\n",
    "def nieświerzy():\n",
    "    print('ale jestem nieświerzy, chyba brzydko pachę')\n",
    "    \n",
    "nieświerzy()"
   ]
  },
  {
   "cell_type": "markdown",
   "id": "sound-fifty",
   "metadata": {},
   "source": [
    "Jest równoznaczny z zapisem"
   ]
  },
  {
   "cell_type": "code",
   "execution_count": 20,
   "id": "irish-oakland",
   "metadata": {},
   "outputs": [
    {
     "name": "stdout",
     "output_type": "stream",
     "text": [
      "jestem odświerzony\n",
      "ale jestem nieświerzy, chyba brzydko pachę\n"
     ]
    }
   ],
   "source": [
    "def nieświerzy():\n",
    "    print('ale jestem nieświerzy, chyba brzydko pachę')\n",
    "odświerzony = odświerz(nieświerzy)\n",
    "odświerzony()"
   ]
  },
  {
   "cell_type": "markdown",
   "id": "measured-polyester",
   "metadata": {},
   "source": [
    "***\n",
    "### Upiększanie funkcji z parametrami\n",
    "\n",
    "Udekorujmy teraz funkcję, która przyjmuje parametry"
   ]
  },
  {
   "cell_type": "code",
   "execution_count": 21,
   "id": "unusual-quarterly",
   "metadata": {},
   "outputs": [],
   "source": [
    "def divide(a, b):\n",
    "    return a/b"
   ]
  },
  {
   "cell_type": "markdown",
   "id": "funky-roulette",
   "metadata": {},
   "source": [
    "Powyższa funkcja przyjmuje dwa parametry *a* i *b*. Jak wiadomo jeżeli za *b* podstawimy 0 to wyskoczy nam bład"
   ]
  },
  {
   "cell_type": "code",
   "execution_count": 22,
   "id": "voluntary-tuition",
   "metadata": {},
   "outputs": [
    {
     "data": {
      "text/plain": [
       "3.0"
      ]
     },
     "execution_count": 22,
     "metadata": {},
     "output_type": "execute_result"
    }
   ],
   "source": [
    "divide(6, 2)"
   ]
  },
  {
   "cell_type": "code",
   "execution_count": 23,
   "id": "resident-venice",
   "metadata": {},
   "outputs": [
    {
     "ename": "ZeroDivisionError",
     "evalue": "division by zero",
     "output_type": "error",
     "traceback": [
      "\u001b[0;31m---------------------------------------------------------------------------\u001b[0m",
      "\u001b[0;31mZeroDivisionError\u001b[0m                         Traceback (most recent call last)",
      "\u001b[0;32m<ipython-input-23-100a5f7c4a56>\u001b[0m in \u001b[0;36m<module>\u001b[0;34m\u001b[0m\n\u001b[0;32m----> 1\u001b[0;31m \u001b[0mdivide\u001b[0m\u001b[0;34m(\u001b[0m\u001b[0;36m6\u001b[0m\u001b[0;34m,\u001b[0m \u001b[0;36m0\u001b[0m\u001b[0;34m)\u001b[0m\u001b[0;34m\u001b[0m\u001b[0;34m\u001b[0m\u001b[0m\n\u001b[0m",
      "\u001b[0;32m<ipython-input-21-7507bdc665d5>\u001b[0m in \u001b[0;36mdivide\u001b[0;34m(a, b)\u001b[0m\n\u001b[1;32m      1\u001b[0m \u001b[0;32mdef\u001b[0m \u001b[0mdivide\u001b[0m\u001b[0;34m(\u001b[0m\u001b[0ma\u001b[0m\u001b[0;34m,\u001b[0m \u001b[0mb\u001b[0m\u001b[0;34m)\u001b[0m\u001b[0;34m:\u001b[0m\u001b[0;34m\u001b[0m\u001b[0;34m\u001b[0m\u001b[0m\n\u001b[0;32m----> 2\u001b[0;31m     \u001b[0;32mreturn\u001b[0m \u001b[0ma\u001b[0m\u001b[0;34m/\u001b[0m\u001b[0mb\u001b[0m\u001b[0;34m\u001b[0m\u001b[0;34m\u001b[0m\u001b[0m\n\u001b[0m",
      "\u001b[0;31mZeroDivisionError\u001b[0m: division by zero"
     ]
    }
   ],
   "source": [
    "divide(6, 0)"
   ]
  },
  {
   "cell_type": "markdown",
   "id": "aging-compression",
   "metadata": {},
   "source": [
    "Udekorujmy sobie tę funkcję"
   ]
  },
  {
   "cell_type": "code",
   "execution_count": 24,
   "id": "boolean-greenhouse",
   "metadata": {},
   "outputs": [],
   "source": [
    "def mądre_dzielenie(func):\n",
    "    def inner(a, b):\n",
    "        print(f'dzielę teraz {a} przez {b}')\n",
    "        if b == 0:\n",
    "            print('Nie dziel cholero przez zero!!!')\n",
    "            return\n",
    "        return func(a, b)\n",
    "    return inner"
   ]
  },
  {
   "cell_type": "code",
   "execution_count": 25,
   "id": "controversial-election",
   "metadata": {},
   "outputs": [],
   "source": [
    "@mądre_dzielenie\n",
    "def divide(a, b):\n",
    "    return a/b"
   ]
  },
  {
   "cell_type": "code",
   "execution_count": 26,
   "id": "political-cruise",
   "metadata": {},
   "outputs": [
    {
     "name": "stdout",
     "output_type": "stream",
     "text": [
      "dzielę teraz 6 przez 2\n"
     ]
    },
    {
     "data": {
      "text/plain": [
       "3.0"
      ]
     },
     "execution_count": 26,
     "metadata": {},
     "output_type": "execute_result"
    }
   ],
   "source": [
    "divide(6, 2)"
   ]
  },
  {
   "cell_type": "code",
   "execution_count": 27,
   "id": "sweet-biodiversity",
   "metadata": {},
   "outputs": [
    {
     "name": "stdout",
     "output_type": "stream",
     "text": [
      "dzielę teraz 6 przez 0\n",
      "Nie dziel cholero przez zero!!!\n"
     ]
    }
   ],
   "source": [
    "divide(6, 0)"
   ]
  },
  {
   "cell_type": "code",
   "execution_count": 28,
   "id": "expected-patch",
   "metadata": {},
   "outputs": [
    {
     "name": "stdout",
     "output_type": "stream",
     "text": [
      "dzielę teraz 6 przez 0\n",
      "Nie dziel cholero przez zero!!!\n"
     ]
    },
    {
     "data": {
      "text/plain": [
       "NoneType"
      ]
     },
     "execution_count": 28,
     "metadata": {},
     "output_type": "execute_result"
    }
   ],
   "source": [
    "type(divide(6, 0))"
   ]
  },
  {
   "cell_type": "markdown",
   "id": "centered-immune",
   "metadata": {},
   "source": [
    "Jeżeli wystąpi błąd w dzieleniu funkcja zwróci nam *None*"
   ]
  },
  {
   "cell_type": "markdown",
   "id": "collectible-enemy",
   "metadata": {},
   "source": [
    "Jak powyżej dekorator przyjmuje takie same parametry jak funkcja dekorowana. Aby dekorator mógł być stosowany w hunkcjach, które przymują inne parametry musimy użyć *args i **kwargs"
   ]
  },
  {
   "cell_type": "code",
   "execution_count": 30,
   "id": "digital-connecticut",
   "metadata": {},
   "outputs": [
    {
     "name": "stdout",
     "output_type": "stream",
     "text": [
      "upiększamy świat\n"
     ]
    },
    {
     "data": {
      "text/plain": [
       "2.0"
      ]
     },
     "execution_count": 30,
     "metadata": {},
     "output_type": "execute_result"
    }
   ],
   "source": [
    "def mądre_działanie_dla_wielu_funkcji(func):\n",
    "    def inner(*args, **kwargs):\n",
    "        print('upiększamy świat')\n",
    "        return func(*args, **kwargs)\n",
    "    return inner\n",
    "\n",
    "@mądre_działanie_dla_wielu_funkcji\n",
    "def divide(a, b):\n",
    "    return a/b\n",
    "\n",
    "divide(6, 3)"
   ]
  },
  {
   "cell_type": "markdown",
   "id": "atomic-passion",
   "metadata": {},
   "source": [
    "***\n",
    "### Łańcuch dekoratorów w Pythonie\n",
    "\n",
    "W Pythonie można łączyć wiele dekoratorów.\n",
    "Funkcja może być dekorowana przez wiokrotnie przez różne lub te same dekoratory"
   ]
  },
  {
   "cell_type": "code",
   "execution_count": 39,
   "id": "respiratory-nancy",
   "metadata": {},
   "outputs": [
    {
     "name": "stdout",
     "output_type": "stream",
     "text": [
      "******************************\n",
      "%%%%%%%%%%%%%%%%%%%%%%%%%%%%%%\n",
      "siema\n",
      "%%%%%%%%%%%%%%%%%%%%%%%%%%%%%%\n",
      "******************************\n"
     ]
    }
   ],
   "source": [
    "def star(func):\n",
    "    def inner(*args, **kwargs):\n",
    "        print('*' * 30)\n",
    "        func(*args, **kwargs)\n",
    "        print('*' * 30)\n",
    "    return inner\n",
    "\n",
    "def percent(func):\n",
    "    def inner(*args, **kwargs):\n",
    "        print('%' * 30)\n",
    "        func(*args, **kwargs)\n",
    "        print('%' * 30)\n",
    "    return inner\n",
    "\n",
    "\n",
    "@star\n",
    "@percent\n",
    "def printer(msg):\n",
    "    print(msg)\n",
    "\n",
    "printer('siema')\n"
   ]
  },
  {
   "cell_type": "markdown",
   "id": "earlier-plastic",
   "metadata": {},
   "source": [
    "Jeżeli chcemy zamienić kolejność wywołaywania wystarczy:"
   ]
  },
  {
   "cell_type": "code",
   "execution_count": 40,
   "id": "signal-residence",
   "metadata": {},
   "outputs": [
    {
     "name": "stdout",
     "output_type": "stream",
     "text": [
      "%%%%%%%%%%%%%%%%%%%%%%%%%%%%%%\n",
      "******************************\n",
      "siema\n",
      "******************************\n",
      "%%%%%%%%%%%%%%%%%%%%%%%%%%%%%%\n"
     ]
    }
   ],
   "source": [
    "@percent\n",
    "@star\n",
    "def printer(msg):\n",
    "    print(msg)\n",
    "\n",
    "printer('siema')"
   ]
  },
  {
   "cell_type": "markdown",
   "id": "built-boutique",
   "metadata": {},
   "source": [
    "Oczywiście jest to równoznaczne z zapisem:"
   ]
  },
  {
   "cell_type": "code",
   "execution_count": 41,
   "id": "arctic-actor",
   "metadata": {},
   "outputs": [
    {
     "name": "stdout",
     "output_type": "stream",
     "text": [
      "******************************\n",
      "%%%%%%%%%%%%%%%%%%%%%%%%%%%%%%\n",
      "jak leci?\n",
      "%%%%%%%%%%%%%%%%%%%%%%%%%%%%%%\n",
      "******************************\n"
     ]
    }
   ],
   "source": [
    "def printer(msg):\n",
    "    print(msg)\n",
    "printer = star(percent(printer))\n",
    "printer('jak leci?')"
   ]
  },
  {
   "cell_type": "code",
   "execution_count": null,
   "id": "painted-reputation",
   "metadata": {},
   "outputs": [],
   "source": []
  }
 ],
 "metadata": {
  "kernelspec": {
   "display_name": "Python 3",
   "language": "python",
   "name": "python3"
  },
  "language_info": {
   "codemirror_mode": {
    "name": "ipython",
    "version": 3
   },
   "file_extension": ".py",
   "mimetype": "text/x-python",
   "name": "python",
   "nbconvert_exporter": "python",
   "pygments_lexer": "ipython3",
   "version": "3.8.5"
  }
 },
 "nbformat": 4,
 "nbformat_minor": 5
}
